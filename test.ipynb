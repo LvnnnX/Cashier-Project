{
 "cells": [
  {
   "cell_type": "code",
   "execution_count": 38,
   "metadata": {},
   "outputs": [],
   "source": [
    "stok_dummy_data = [\n",
    "        {\n",
    "            'id_stok' : 1,\n",
    "            'id_kopi' : 1,\n",
    "            'tanggal_exp' : '2021-08-31 00:00:00',\n",
    "            'stok' : 100,\n",
    "            'tanggal_masuk' : '2021-08-31 00:00:00',\n",
    "        },\n",
    "        {\n",
    "            'id_stok' : 2,\n",
    "            'id_kopi' : 2,\n",
    "            'tanggal_exp' : '2021-08-31 00:00:00',\n",
    "            'stok' : 100,\n",
    "            'tanggal_masuk' : '2021-08-31 00:00:00',\n",
    "        }\n",
    "]\n",
    "\n",
    "kopi_dummy_data = [\n",
    "    {\n",
    "        'id_kopi' : 1,\n",
    "        'nama' : 'Kopi Rizky',\n",
    "        'harga' : 100000,\n",
    "        'biaya_produksi' : 100000,\n",
    "        'stok' : 100,\n",
    "    },\n",
    "    {\n",
    "        'id_kopi' : 2,\n",
    "        'nama' : 'Kopi Fajar',\n",
    "        'harga' : 50000,\n",
    "        'biaya_produksi' : 120000,\n",
    "        'stok' : 120,\n",
    "    }\n",
    "]"
   ]
  },
  {
   "cell_type": "code",
   "execution_count": 3,
   "metadata": {},
   "outputs": [],
   "source": [
    "import pandas as pd"
   ]
  },
  {
   "cell_type": "code",
   "execution_count": 40,
   "metadata": {},
   "outputs": [],
   "source": [
    "stok_data = pd.DataFrame(stok_dummy_data)\n",
    "kopi_data = pd.DataFrame(kopi_dummy_data)"
   ]
  },
  {
   "cell_type": "code",
   "execution_count": 17,
   "metadata": {},
   "outputs": [
    {
     "data": {
      "text/html": [
       "<div>\n",
       "<style scoped>\n",
       "    .dataframe tbody tr th:only-of-type {\n",
       "        vertical-align: middle;\n",
       "    }\n",
       "\n",
       "    .dataframe tbody tr th {\n",
       "        vertical-align: top;\n",
       "    }\n",
       "\n",
       "    .dataframe thead th {\n",
       "        text-align: right;\n",
       "    }\n",
       "</style>\n",
       "<table border=\"1\" class=\"dataframe\">\n",
       "  <thead>\n",
       "    <tr style=\"text-align: right;\">\n",
       "      <th></th>\n",
       "      <th>id_kopi</th>\n",
       "      <th>nama</th>\n",
       "      <th>harga</th>\n",
       "      <th>biaya_produksi</th>\n",
       "      <th>stok</th>\n",
       "    </tr>\n",
       "  </thead>\n",
       "  <tbody>\n",
       "    <tr>\n",
       "      <th>0</th>\n",
       "      <td>1</td>\n",
       "      <td>Kopi Rizky</td>\n",
       "      <td>100000</td>\n",
       "      <td>100000</td>\n",
       "      <td>100</td>\n",
       "    </tr>\n",
       "    <tr>\n",
       "      <th>1</th>\n",
       "      <td>2</td>\n",
       "      <td>Kopi Rizky</td>\n",
       "      <td>100000</td>\n",
       "      <td>100000</td>\n",
       "      <td>100</td>\n",
       "    </tr>\n",
       "  </tbody>\n",
       "</table>\n",
       "</div>"
      ],
      "text/plain": [
       "   id_kopi        nama   harga  biaya_produksi  stok\n",
       "0        1  Kopi Rizky  100000          100000   100\n",
       "1        2  Kopi Rizky  100000          100000   100"
      ]
     },
     "execution_count": 17,
     "metadata": {},
     "output_type": "execute_result"
    }
   ],
   "source": [
    "kopi_data"
   ]
  },
  {
   "cell_type": "code",
   "execution_count": 42,
   "metadata": {},
   "outputs": [
    {
     "name": "stdout",
     "output_type": "stream",
     "text": [
      "0    Kopi Rizky\n",
      "Name: nama, dtype: object 0    100000\n",
      "Name: harga, dtype: int64 0    100\n",
      "Name: stok, dtype: int64\n",
      "1    Kopi Fajar\n",
      "Name: nama, dtype: object 1    50000\n",
      "Name: harga, dtype: int64 1    120\n",
      "Name: stok, dtype: int64\n"
     ]
    }
   ],
   "source": [
    "for key,value in stok_data.iterrows():\n",
    "    # print(value)\n",
    "    # print(kopi_data[kopi_data['id_kopi'] == value['id_kopi']])\n",
    "    kopi_now = kopi_data[kopi_data['id_kopi'] == value['id_kopi']]\n",
    "    nama = kopi_now['nama']\n",
    "    harga = kopi_now['harga']\n",
    "    stok = kopi_now['stok']\n",
    "    print(nama, harga, stok)"
   ]
  },
  {
   "cell_type": "code",
   "execution_count": 15,
   "metadata": {},
   "outputs": [
    {
     "data": {
      "text/plain": [
       "{'id_kasir': 1,\n",
       " 'nama': 'Rizky',\n",
       " 'password': '123456',\n",
       " 'status': 1,\n",
       " 'email': 'rizkyhidayat@gmail.com',\n",
       " 'isAdmin': 0}"
      ]
     },
     "execution_count": 15,
     "metadata": {},
     "output_type": "execute_result"
    }
   ],
   "source": [
    "kasir_dummy_data[nota_header_dummy_data[0]['id_kasir']-1]"
   ]
  },
  {
   "cell_type": "code",
   "execution_count": 16,
   "metadata": {},
   "outputs": [
    {
     "data": {
      "text/plain": [
       "{'id_kopi': 1,\n",
       " 'nama': 'Kopi Arabika',\n",
       " 'harga': 100000,\n",
       " 'stok': 100,\n",
       " 'foto': 'kopi_arabika.jpg',\n",
       " 'status': 1}"
      ]
     },
     "execution_count": 16,
     "metadata": {},
     "output_type": "execute_result"
    }
   ],
   "source": [
    "kopi_dummy_data[nota_detail_dummy_data[0]['id_kopi']-1]"
   ]
  },
  {
   "cell_type": "code",
   "execution_count": 18,
   "metadata": {},
   "outputs": [
    {
     "name": "stdout",
     "output_type": "stream",
     "text": [
      "1\n",
      "4\n",
      "7\n",
      "10\n",
      "13\n",
      "16\n",
      "19\n",
      "22\n",
      "25\n",
      "28\n",
      "31\n",
      "34\n",
      "37\n",
      "40\n",
      "43\n",
      "46\n",
      "49\n",
      "52\n",
      "55\n",
      "58\n",
      "61\n",
      "64\n",
      "67\n",
      "70\n",
      "73\n",
      "76\n",
      "79\n",
      "82\n",
      "85\n",
      "88\n",
      "91\n",
      "94\n",
      "97\n",
      "100\n"
     ]
    }
   ],
   "source": [
    "for i in range(1,101,3):\n",
    "    print(i)"
   ]
  }
 ],
 "metadata": {
  "kernelspec": {
   "display_name": "venv",
   "language": "python",
   "name": "python3"
  },
  "language_info": {
   "codemirror_mode": {
    "name": "ipython",
    "version": 3
   },
   "file_extension": ".py",
   "mimetype": "text/x-python",
   "name": "python",
   "nbconvert_exporter": "python",
   "pygments_lexer": "ipython3",
   "version": "3.11.5"
  }
 },
 "nbformat": 4,
 "nbformat_minor": 2
}
