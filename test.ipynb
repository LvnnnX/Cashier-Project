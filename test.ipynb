{
 "cells": [
  {
   "cell_type": "code",
   "execution_count": 38,
   "metadata": {},
   "outputs": [],
   "source": [
    "stok_dummy_data = [\n",
    "        {\n",
    "            'id_stok' : 1,\n",
    "            'id_kopi' : 1,\n",
    "            'tanggal_exp' : '2021-08-31 00:00:00',\n",
    "            'stok' : 100,\n",
    "            'tanggal_masuk' : '2021-08-31 00:00:00',\n",
    "        },\n",
    "        {\n",
    "            'id_stok' : 2,\n",
    "            'id_kopi' : 2,\n",
    "            'tanggal_exp' : '2021-08-31 00:00:00',\n",
    "            'stok' : 100,\n",
    "            'tanggal_masuk' : '2021-08-31 00:00:00',\n",
    "        }\n",
    "]\n",
    "\n",
    "kopi_dummy_data = [\n",
    "    {\n",
    "        'id_kopi' : 1,\n",
    "        'nama' : 'Kopi Rizky',\n",
    "        'harga' : 100000,\n",
    "        'biaya_produksi' : 100000,\n",
    "        'stok' : 100,\n",
    "    },\n",
    "    {\n",
    "        'id_kopi' : 2,\n",
    "        'nama' : 'Kopi Fajar',\n",
    "        'harga' : 50000,\n",
    "        'biaya_produksi' : 120000,\n",
    "        'stok' : 120,\n",
    "    }\n",
    "]"
   ]
  },
  {
   "cell_type": "code",
   "execution_count": 3,
   "metadata": {},
   "outputs": [],
   "source": [
    "import pandas as pd"
   ]
  },
  {
   "cell_type": "code",
   "execution_count": 40,
   "metadata": {},
   "outputs": [],
   "source": [
    "stok_data = pd.DataFrame(stok_dummy_data)\n",
    "kopi_data = pd.DataFrame(kopi_dummy_data)"
   ]
  },
  {
   "cell_type": "code",
   "execution_count": 17,
   "metadata": {},
   "outputs": [
    {
     "data": {
      "text/html": [
       "<div>\n",
       "<style scoped>\n",
       "    .dataframe tbody tr th:only-of-type {\n",
       "        vertical-align: middle;\n",
       "    }\n",
       "\n",
       "    .dataframe tbody tr th {\n",
       "        vertical-align: top;\n",
       "    }\n",
       "\n",
       "    .dataframe thead th {\n",
       "        text-align: right;\n",
       "    }\n",
       "</style>\n",
       "<table border=\"1\" class=\"dataframe\">\n",
       "  <thead>\n",
       "    <tr style=\"text-align: right;\">\n",
       "      <th></th>\n",
       "      <th>id_kopi</th>\n",
       "      <th>nama</th>\n",
       "      <th>harga</th>\n",
       "      <th>biaya_produksi</th>\n",
       "      <th>stok</th>\n",
       "    </tr>\n",
       "  </thead>\n",
       "  <tbody>\n",
       "    <tr>\n",
       "      <th>0</th>\n",
       "      <td>1</td>\n",
       "      <td>Kopi Rizky</td>\n",
       "      <td>100000</td>\n",
       "      <td>100000</td>\n",
       "      <td>100</td>\n",
       "    </tr>\n",
       "    <tr>\n",
       "      <th>1</th>\n",
       "      <td>2</td>\n",
       "      <td>Kopi Rizky</td>\n",
       "      <td>100000</td>\n",
       "      <td>100000</td>\n",
       "      <td>100</td>\n",
       "    </tr>\n",
       "  </tbody>\n",
       "</table>\n",
       "</div>"
      ],
      "text/plain": [
       "   id_kopi        nama   harga  biaya_produksi  stok\n",
       "0        1  Kopi Rizky  100000          100000   100\n",
       "1        2  Kopi Rizky  100000          100000   100"
      ]
     },
     "execution_count": 17,
     "metadata": {},
     "output_type": "execute_result"
    }
   ],
   "source": [
    "kopi_data"
   ]
  },
  {
   "cell_type": "code",
   "execution_count": 42,
   "metadata": {},
   "outputs": [
    {
     "name": "stdout",
     "output_type": "stream",
     "text": [
      "0    Kopi Rizky\n",
      "Name: nama, dtype: object 0    100000\n",
      "Name: harga, dtype: int64 0    100\n",
      "Name: stok, dtype: int64\n",
      "1    Kopi Fajar\n",
      "Name: nama, dtype: object 1    50000\n",
      "Name: harga, dtype: int64 1    120\n",
      "Name: stok, dtype: int64\n"
     ]
    }
   ],
   "source": [
    "for key,value in stok_data.iterrows():\n",
    "    # print(value)\n",
    "    # print(kopi_data[kopi_data['id_kopi'] == value['id_kopi']])\n",
    "    kopi_now = kopi_data[kopi_data['id_kopi'] == value['id_kopi']]\n",
    "    nama = kopi_now['nama']\n",
    "    harga = kopi_now['harga']\n",
    "    stok = kopi_now['stok']\n",
    "    print(nama, harga, stok)"
   ]
  },
  {
   "cell_type": "code",
   "execution_count": 15,
   "metadata": {},
   "outputs": [
    {
     "data": {
      "text/plain": [
       "{'id_kasir': 1,\n",
       " 'nama': 'Rizky',\n",
       " 'password': '123456',\n",
       " 'status': 1,\n",
       " 'email': 'rizkyhidayat@gmail.com',\n",
       " 'isAdmin': 0}"
      ]
     },
     "execution_count": 15,
     "metadata": {},
     "output_type": "execute_result"
    }
   ],
   "source": [
    "kasir_dummy_data[nota_header_dummy_data[0]['id_kasir']-1]"
   ]
  },
  {
   "cell_type": "code",
   "execution_count": 16,
   "metadata": {},
   "outputs": [
    {
     "data": {
      "text/plain": [
       "{'id_kopi': 1,\n",
       " 'nama': 'Kopi Arabika',\n",
       " 'harga': 100000,\n",
       " 'stok': 100,\n",
       " 'foto': 'kopi_arabika.jpg',\n",
       " 'status': 1}"
      ]
     },
     "execution_count": 16,
     "metadata": {},
     "output_type": "execute_result"
    }
   ],
   "source": [
    "kopi_dummy_data[nota_detail_dummy_data[0]['id_kopi']-1]"
   ]
  },
  {
   "cell_type": "code",
   "execution_count": 18,
   "metadata": {},
   "outputs": [
    {
     "name": "stdout",
     "output_type": "stream",
     "text": [
      "1\n",
      "4\n",
      "7\n",
      "10\n",
      "13\n",
      "16\n",
      "19\n",
      "22\n",
      "25\n",
      "28\n",
      "31\n",
      "34\n",
      "37\n",
      "40\n",
      "43\n",
      "46\n",
      "49\n",
      "52\n",
      "55\n",
      "58\n",
      "61\n",
      "64\n",
      "67\n",
      "70\n",
      "73\n",
      "76\n",
      "79\n",
      "82\n",
      "85\n",
      "88\n",
      "91\n",
      "94\n",
      "97\n",
      "100\n"
     ]
    }
   ],
   "source": [
    "for i in range(1,101,3):\n",
    "    print(i)"
   ]
  },
  {
   "cell_type": "code",
   "execution_count": 10,
   "metadata": {},
   "outputs": [],
   "source": [
    "from utils.importer import *"
   ]
  },
  {
   "cell_type": "code",
   "execution_count": 2,
   "metadata": {},
   "outputs": [
    {
     "name": "stdout",
     "output_type": "stream",
     "text": [
      "   id_sales     nama\n",
      "0         1  shamman\n",
      "1         2    rezki\n",
      "2         3   akhmal\n"
     ]
    }
   ],
   "source": [
    "listnamasales = getSeriesIdAndNamaSales()\n",
    "print(listnamasales)"
   ]
  },
  {
   "cell_type": "code",
   "execution_count": 3,
   "metadata": {},
   "outputs": [
    {
     "name": "stdout",
     "output_type": "stream",
     "text": [
      "  id_kopi     nama\n",
      "0       1  robusta\n",
      "1       2   lanang\n",
      "2      a1  lananga\n"
     ]
    }
   ],
   "source": [
    "listnamabarang = getSeriesIdAndNamaKopi()\n",
    "print(listnamabarang)"
   ]
  },
  {
   "cell_type": "code",
   "execution_count": 4,
   "metadata": {},
   "outputs": [
    {
     "name": "stdout",
     "output_type": "stream",
     "text": [
      "  id_toko         nama\n",
      "0       1   dummy_toko\n",
      "1      a1  dummy_toko2\n"
     ]
    }
   ],
   "source": [
    "listnamatoko = getSeriesIdAndNamaToko()\n",
    "print(listnamatoko)"
   ]
  },
  {
   "cell_type": "code",
   "execution_count": 6,
   "metadata": {},
   "outputs": [
    {
     "name": "stdout",
     "output_type": "stream",
     "text": [
      "   id_nota  total  status_nota  id_karyawan  jenis_transaksi namapelangan  \\\n",
      "0        1     10            1            1                0     customer   \n",
      "1  adsasd1     10            1            1                0     customer   \n",
      "2  adsasd1     10            1            1                1     customer   \n",
      "3        3     10            0            1                0     customer   \n",
      "4        4     10            1            1                0     customer   \n",
      "5        4     10            1            1                1     customer   \n",
      "6        1     10            1            1                1     customer   \n",
      "\n",
      "   id_sales           tanggal  \n",
      "0         1   10/1/2024 14:40  \n",
      "1         1   10/1/2024 14:40  \n",
      "2         1   10/1/2024 14:40  \n",
      "3         1   10/1/2024 14:40  \n",
      "4         1   10/1/2024 14:40  \n",
      "5         1   10/1/2024 14:40  \n",
      "6         1  11/02/2024 18:00  \n"
     ]
    }
   ],
   "source": [
    "data = loadNotaHeaderByTime(None, datetime.datetime.now())\n",
    "print(data)"
   ]
  },
  {
   "cell_type": "code",
   "execution_count": 12,
   "metadata": {},
   "outputs": [
    {
     "name": "stdout",
     "output_type": "stream",
     "text": [
      "   id_stok  id_kopi tanggal_exp tanggal_masuk   stok\n",
      "0        1        1   12/8/2021     12/1/2021   2960\n",
      "1        2        1   12/8/2021     12/1/2021  22548\n",
      "2        3        2   12/8/2021     12/1/2021      0\n",
      "3        4        2   12/8/2021     12/1/2021      4\n",
      "4        5        1   12/8/2021     12/1/2021     14\n"
     ]
    }
   ],
   "source": [
    "def getFullStok(date: datetime.datetime):\n",
    "    Year = date.strftime(\"%Y\")\n",
    "    Month = HASHMONTH[int(date.strftime(\"%m\")) - 1]\n",
    "    Day = date.strftime(\"%d\")\n",
    "    stokCsv = pd.read_csv(DATAPATH / \"Coffee\" / Year / Month / \"stok.csv\")\n",
    "    return stokCsv\n",
    "fullstok = getFullStok(datetime.datetime.now())\n",
    "print(fullstok)"
   ]
  },
  {
   "cell_type": "code",
   "execution_count": 13,
   "metadata": {},
   "outputs": [
    {
     "name": "stdout",
     "output_type": "stream",
     "text": [
      "  id_kopi     nama  harga  biaya_produksi             foto\n",
      "0       1  robusta  15000           10000  http://foto.com\n",
      "1       2   lanang  15000           10000  http://foto.com\n",
      "2      a1  lananga  15000           10000  http://foto.com\n"
     ]
    }
   ],
   "source": [
    "def getSeriesFullKopi():\n",
    "    kopiCsv = pd.read_csv(DATAPATH / \"Coffee\" / \"kopi.csv\")\n",
    "    return kopiCsv\n",
    "\n",
    "fullkopi = getSeriesFullKopi()\n",
    "print(fullkopi)"
   ]
  },
  {
   "cell_type": "code",
   "execution_count": 15,
   "metadata": {},
   "outputs": [
    {
     "data": {
      "text/html": [
       "<div>\n",
       "<style scoped>\n",
       "    .dataframe tbody tr th:only-of-type {\n",
       "        vertical-align: middle;\n",
       "    }\n",
       "\n",
       "    .dataframe tbody tr th {\n",
       "        vertical-align: top;\n",
       "    }\n",
       "\n",
       "    .dataframe thead th {\n",
       "        text-align: right;\n",
       "    }\n",
       "</style>\n",
       "<table border=\"1\" class=\"dataframe\">\n",
       "  <thead>\n",
       "    <tr style=\"text-align: right;\">\n",
       "      <th></th>\n",
       "      <th>id_kopi</th>\n",
       "      <th>nama</th>\n",
       "      <th>harga</th>\n",
       "      <th>biaya_produksi</th>\n",
       "      <th>foto</th>\n",
       "    </tr>\n",
       "  </thead>\n",
       "  <tbody>\n",
       "    <tr>\n",
       "      <th>0</th>\n",
       "      <td>1</td>\n",
       "      <td>robusta</td>\n",
       "      <td>15000</td>\n",
       "      <td>10000</td>\n",
       "      <td>http://foto.com</td>\n",
       "    </tr>\n",
       "  </tbody>\n",
       "</table>\n",
       "</div>"
      ],
      "text/plain": [
       "  id_kopi     nama  harga  biaya_produksi             foto\n",
       "0       1  robusta  15000           10000  http://foto.com"
      ]
     },
     "execution_count": 15,
     "metadata": {},
     "output_type": "execute_result"
    }
   ],
   "source": [
    "fullkopi[fullkopi['id_kopi'] == '1']"
   ]
  },
  {
   "cell_type": "code",
   "execution_count": 19,
   "metadata": {},
   "outputs": [
    {
     "data": {
      "text/html": [
       "<div>\n",
       "<style scoped>\n",
       "    .dataframe tbody tr th:only-of-type {\n",
       "        vertical-align: middle;\n",
       "    }\n",
       "\n",
       "    .dataframe tbody tr th {\n",
       "        vertical-align: top;\n",
       "    }\n",
       "\n",
       "    .dataframe thead th {\n",
       "        text-align: right;\n",
       "    }\n",
       "</style>\n",
       "<table border=\"1\" class=\"dataframe\">\n",
       "  <thead>\n",
       "    <tr style=\"text-align: right;\">\n",
       "      <th></th>\n",
       "      <th>id_stok</th>\n",
       "      <th>id_kopi</th>\n",
       "      <th>tanggal_exp</th>\n",
       "      <th>tanggal_masuk</th>\n",
       "      <th>stok</th>\n",
       "    </tr>\n",
       "  </thead>\n",
       "  <tbody>\n",
       "    <tr>\n",
       "      <th>0</th>\n",
       "      <td>1</td>\n",
       "      <td>1</td>\n",
       "      <td>12/8/2021</td>\n",
       "      <td>12/1/2021</td>\n",
       "      <td>2960</td>\n",
       "    </tr>\n",
       "    <tr>\n",
       "      <th>1</th>\n",
       "      <td>2</td>\n",
       "      <td>1</td>\n",
       "      <td>12/8/2021</td>\n",
       "      <td>12/1/2021</td>\n",
       "      <td>22548</td>\n",
       "    </tr>\n",
       "    <tr>\n",
       "      <th>4</th>\n",
       "      <td>5</td>\n",
       "      <td>1</td>\n",
       "      <td>12/8/2021</td>\n",
       "      <td>12/1/2021</td>\n",
       "      <td>14</td>\n",
       "    </tr>\n",
       "  </tbody>\n",
       "</table>\n",
       "</div>"
      ],
      "text/plain": [
       "   id_stok  id_kopi tanggal_exp tanggal_masuk   stok\n",
       "0        1        1   12/8/2021     12/1/2021   2960\n",
       "1        2        1   12/8/2021     12/1/2021  22548\n",
       "4        5        1   12/8/2021     12/1/2021     14"
      ]
     },
     "execution_count": 19,
     "metadata": {},
     "output_type": "execute_result"
    }
   ],
   "source": [
    "fullstok[fullstok['id_kopi'] == 1]"
   ]
  },
  {
   "cell_type": "code",
   "execution_count": 22,
   "metadata": {},
   "outputs": [
    {
     "data": {
      "text/plain": [
       "0     2960\n",
       "1    22548\n",
       "4       14\n",
       "Name: stok, dtype: int64"
      ]
     },
     "execution_count": 22,
     "metadata": {},
     "output_type": "execute_result"
    }
   ],
   "source": [
    "fullstok[fullstok['id_kopi'] == 1]['stok']"
   ]
  },
  {
   "cell_type": "code",
   "execution_count": 23,
   "metadata": {},
   "outputs": [
    {
     "name": "stdout",
     "output_type": "stream",
     "text": [
      "  id_kopi   stok     nama\n",
      "0       1   2960  robusta\n",
      "1       1  22548  robusta\n",
      "2       1     14  robusta\n",
      "3       2      0   lanang\n",
      "4       2      4   lanang\n"
     ]
    },
    {
     "name": "stderr",
     "output_type": "stream",
     "text": [
      "C:\\Users\\Windows\\AppData\\Local\\Temp\\ipykernel_8828\\3724305632.py:4: SettingWithCopyWarning: \n",
      "A value is trying to be set on a copy of a slice from a DataFrame.\n",
      "Try using .loc[row_indexer,col_indexer] = value instead\n",
      "\n",
      "See the caveats in the documentation: https://pandas.pydata.org/pandas-docs/stable/user_guide/indexing.html#returning-a-view-versus-a-copy\n",
      "  df1[\"id_kopi\"] = df1[\"id_kopi\"].astype(str)\n",
      "C:\\Users\\Windows\\AppData\\Local\\Temp\\ipykernel_8828\\3724305632.py:5: SettingWithCopyWarning: \n",
      "A value is trying to be set on a copy of a slice from a DataFrame.\n",
      "Try using .loc[row_indexer,col_indexer] = value instead\n",
      "\n",
      "See the caveats in the documentation: https://pandas.pydata.org/pandas-docs/stable/user_guide/indexing.html#returning-a-view-versus-a-copy\n",
      "  df2[\"id_kopi\"] = df2[\"id_kopi\"].astype(str)\n"
     ]
    }
   ],
   "source": [
    "def getJoinedStokKopi(df1:pd.DataFrame,df2:pd.DataFrame):\n",
    "    df1 = df1[['id_kopi', 'stok']]\n",
    "    df2 = df2[['id_kopi', 'nama']]\n",
    "    df1[\"id_kopi\"] = df1[\"id_kopi\"].astype(str)\n",
    "    df2[\"id_kopi\"] = df2[\"id_kopi\"].astype(str)\n",
    "    df1.set_index(\"id_kopi\",inplace=True)\n",
    "    df2.set_index(\"id_kopi\",inplace=True)\n",
    "    joined = df1.join(df2,how=\"inner\",rsuffix=\"_kopi\")\n",
    "    return joined.reset_index()\n",
    "\n",
    "joineddata = getJoinedStokKopi(fullstok,fullkopi)\n",
    "print(joineddata)"
   ]
  },
  {
   "cell_type": "code",
   "execution_count": 25,
   "metadata": {},
   "outputs": [
    {
     "data": {
      "text/plain": [
       "25522"
      ]
     },
     "execution_count": 25,
     "metadata": {},
     "output_type": "execute_result"
    }
   ],
   "source": [
    "joineddata[joineddata['id_kopi'] == '1']['stok'].sum()"
   ]
  },
  {
   "cell_type": "code",
   "execution_count": 28,
   "metadata": {},
   "outputs": [],
   "source": [
    "from PIL import Image as PILImage"
   ]
  },
  {
   "cell_type": "code",
   "execution_count": 44,
   "metadata": {},
   "outputs": [],
   "source": [
    "image = r\"C:\\Users\\Windows\\Downloads\\sullyoon4k.jpg\"\n",
    "topath = f\"C:\\Coding\\Python\\Cashier\\data\\img\\coffee\"\n",
    "img = PILImage.open(image)\n",
    "# img.save(topath + \"\\\\\" + \"lg-nov2.png\")\n"
   ]
  },
  {
   "cell_type": "code",
   "execution_count": 39,
   "metadata": {},
   "outputs": [],
   "source": [
    "import shutil"
   ]
  },
  {
   "cell_type": "code",
   "execution_count": 45,
   "metadata": {},
   "outputs": [
    {
     "data": {
      "text/plain": [
       "'C:\\\\Coding\\\\Python\\\\Cashier\\\\data\\\\img\\\\coffee\\\\tes.png'"
      ]
     },
     "execution_count": 45,
     "metadata": {},
     "output_type": "execute_result"
    }
   ],
   "source": [
    "shutil.copy(image, topath + \"\\\\\" + \"tes.png\")"
   ]
  }
 ],
 "metadata": {
  "kernelspec": {
   "display_name": "venv",
   "language": "python",
   "name": "python3"
  },
  "language_info": {
   "codemirror_mode": {
    "name": "ipython",
    "version": 3
   },
   "file_extension": ".py",
   "mimetype": "text/x-python",
   "name": "python",
   "nbconvert_exporter": "python",
   "pygments_lexer": "ipython3",
   "version": "3.11.5"
  }
 },
 "nbformat": 4,
 "nbformat_minor": 2
}
