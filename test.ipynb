{
 "cells": [
  {
   "cell_type": "code",
   "execution_count": 2,
   "metadata": {},
   "outputs": [],
   "source": [
    "sales_dummy_data = [{\n",
    "        'id_sales' : 1,\n",
    "        'nama' : 'Rizky',\n",
    "        'alamat' : 'Jl. Raya Bogor',\n",
    "        'no_hp' : '081234567890',\n",
    "        'status' : 1,\n",
    "    },{\n",
    "        'id_sales' : 2,\n",
    "        'nama' : 'Rizky',\n",
    "        'alamat' : 'Jl. Raya Bogor',\n",
    "        'no_hp' : '081234567890',\n",
    "        'status' : 1,\n",
    "    }]\n",
    "    \n",
    "nota_header_dummy_data = [\n",
    "    {\n",
    "        'id_nota' : 1,\n",
    "        'total' : 100000,\n",
    "        'status_nota' : 1,\n",
    "        'id_kasir' : 1,\n",
    "        'id_nota_primary' : 1,\n",
    "        'jenis_transaksi' : 'ambil',\n",
    "        'nama_pelanggan' : 'Rizky',\n",
    "        'id_sales' : 1,\n",
    "        'tanggal' : '2021-08-31 00:00:00', \n",
    "    },\n",
    "    {\n",
    "        'id_nota' : 2,\n",
    "        'total' : 100000,\n",
    "        'status_nota' : 1,\n",
    "        'id_kasir' : 1,\n",
    "        'id_nota_primary' : 2,\n",
    "        'jenis_transaksi' : 'ambil',\n",
    "        'nama_pelanggan' : 'Rizky',\n",
    "        'id_sales' : 1,\n",
    "        'tanggal' : '2021-08-31 00:00:00',\n",
    "    }\n",
    "]\n",
    "\n",
    "nota_detail_dummy_data = [\n",
    "    {\n",
    "        'id_kopi' : 1,\n",
    "        'id_nota_primary' : 1,\n",
    "        'id_nota_detail' : 1,\n",
    "        'harga_satuan' : 100000,\n",
    "        'discount' : 0,\n",
    "        'kuantitas' : 1,\n",
    "    },\n",
    "    {\n",
    "        'id_kopi' : 2,\n",
    "        'id_nota_primary' : 1,\n",
    "        'id_nota_detail' : 2,\n",
    "        'harga_satuan' : 100000,\n",
    "        'discount' : 0,\n",
    "        'kuantitas' : 1,\n",
    "    }\n",
    "]\n",
    "\n",
    "kopi_dummy_data = [\n",
    "    {\n",
    "        'id_kopi' : 1,\n",
    "        'nama' : 'Kopi Arabika',\n",
    "        'harga': 100000,\n",
    "        'stok' : 100,\n",
    "        'foto' : 'kopi_arabika.jpg',\n",
    "        'status' : 1,\n",
    "    },\n",
    "    {\n",
    "        'id_kopi' : 2,\n",
    "        'nama' : 'Kopi Robusta',\n",
    "        'harga': 100000,\n",
    "        'stok' : 100,\n",
    "        'foto' : 'kopi_arabika.jpg',\n",
    "        'status' : 1,\n",
    "    }\n",
    "]\n",
    "\n",
    "kasir_dummy_data = [\n",
    "    {\n",
    "        'id_kasir' : 1,\n",
    "        'nama' : 'Rizky',\n",
    "        'password' : '123456',\n",
    "        'status' : 1,\n",
    "        'email' : 'rizkyhidayat@gmail.com',\n",
    "        'isAdmin' : 0,\n",
    "    }\n",
    "]"
   ]
  },
  {
   "cell_type": "code",
   "execution_count": 5,
   "metadata": {},
   "outputs": [],
   "source": [
    "import pandas as pd"
   ]
  },
  {
   "cell_type": "code",
   "execution_count": 14,
   "metadata": {},
   "outputs": [
    {
     "data": {
      "text/plain": [
       "1"
      ]
     },
     "execution_count": 14,
     "metadata": {},
     "output_type": "execute_result"
    }
   ],
   "source": [
    "nota_header_dummy_data[0]['id_kasir']"
   ]
  },
  {
   "cell_type": "code",
   "execution_count": 15,
   "metadata": {},
   "outputs": [
    {
     "data": {
      "text/plain": [
       "{'id_kasir': 1,\n",
       " 'nama': 'Rizky',\n",
       " 'password': '123456',\n",
       " 'status': 1,\n",
       " 'email': 'rizkyhidayat@gmail.com',\n",
       " 'isAdmin': 0}"
      ]
     },
     "execution_count": 15,
     "metadata": {},
     "output_type": "execute_result"
    }
   ],
   "source": [
    "kasir_dummy_data[nota_header_dummy_data[0]['id_kasir']-1]"
   ]
  },
  {
   "cell_type": "code",
   "execution_count": 16,
   "metadata": {},
   "outputs": [
    {
     "data": {
      "text/plain": [
       "{'id_kopi': 1,\n",
       " 'nama': 'Kopi Arabika',\n",
       " 'harga': 100000,\n",
       " 'stok': 100,\n",
       " 'foto': 'kopi_arabika.jpg',\n",
       " 'status': 1}"
      ]
     },
     "execution_count": 16,
     "metadata": {},
     "output_type": "execute_result"
    }
   ],
   "source": [
    "kopi_dummy_data[nota_detail_dummy_data[0]['id_kopi']-1]"
   ]
  },
  {
   "cell_type": "code",
   "execution_count": 18,
   "metadata": {},
   "outputs": [
    {
     "name": "stdout",
     "output_type": "stream",
     "text": [
      "1\n",
      "4\n",
      "7\n",
      "10\n",
      "13\n",
      "16\n",
      "19\n",
      "22\n",
      "25\n",
      "28\n",
      "31\n",
      "34\n",
      "37\n",
      "40\n",
      "43\n",
      "46\n",
      "49\n",
      "52\n",
      "55\n",
      "58\n",
      "61\n",
      "64\n",
      "67\n",
      "70\n",
      "73\n",
      "76\n",
      "79\n",
      "82\n",
      "85\n",
      "88\n",
      "91\n",
      "94\n",
      "97\n",
      "100\n"
     ]
    }
   ],
   "source": [
    "for i in range(1,101,3):\n",
    "    print(i)"
   ]
  }
 ],
 "metadata": {
  "kernelspec": {
   "display_name": "venv",
   "language": "python",
   "name": "python3"
  },
  "language_info": {
   "codemirror_mode": {
    "name": "ipython",
    "version": 3
   },
   "file_extension": ".py",
   "mimetype": "text/x-python",
   "name": "python",
   "nbconvert_exporter": "python",
   "pygments_lexer": "ipython3",
   "version": "3.11.5"
  }
 },
 "nbformat": 4,
 "nbformat_minor": 2
}
